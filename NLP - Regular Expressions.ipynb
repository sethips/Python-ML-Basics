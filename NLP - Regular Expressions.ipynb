{
 "cells": [
  {
   "cell_type": "markdown",
   "metadata": {},
   "source": [
    "# Regular Expressions"
   ]
  },
  {
   "cell_type": "markdown",
   "metadata": {},
   "source": [
    "## Metacharacters"
   ]
  },
  {
   "cell_type": "code",
   "execution_count": 1,
   "metadata": {},
   "outputs": [],
   "source": [
    "import re"
   ]
  },
  {
   "cell_type": "code",
   "execution_count": 2,
   "metadata": {},
   "outputs": [],
   "source": [
    "#Return string from the first Match of 'pattern' in 'string'\n",
    "def search_patteren_string(pattern, string):\n",
    "    search = re.compile(pattern).search(string)\n",
    "    if not search:\n",
    "        return \"No Match\"\n",
    "    else:\n",
    "        return \"Found Pattern: \" +search.group()"
   ]
  },
  {
   "cell_type": "code",
   "execution_count": 3,
   "metadata": {},
   "outputs": [
    {
     "name": "stdout",
     "output_type": "stream",
     "text": [
      "Found Pattern: N\n"
     ]
    }
   ],
   "source": [
    "# Matches any single character\n",
    "print(search_patteren_string(\".\", 'New York'))"
   ]
  },
  {
   "cell_type": "code",
   "execution_count": 4,
   "metadata": {
    "scrolled": true
   },
   "outputs": [
    {
     "name": "stdout",
     "output_type": "stream",
     "text": [
      "Found Pattern: \n",
      "Found Pattern: M\n",
      "No Match\n"
     ]
    }
   ],
   "source": [
    "# Begening of string\n",
    "print(search_patteren_string(\"^\", \"Mallesh\"))               # Empty string\n",
    "print(search_patteren_string(\"^M\", \"Mallesh\"))\n",
    "print(search_patteren_string(\"^a\", \"Mallesh\"))"
   ]
  },
  {
   "cell_type": "code",
   "execution_count": 5,
   "metadata": {},
   "outputs": [
    {
     "name": "stdout",
     "output_type": "stream",
     "text": [
      "Found Pattern: \n",
      "Found Pattern: h\n",
      "No Match\n"
     ]
    }
   ],
   "source": [
    "# End of string\n",
    "print(search_patteren_string('$', 'Mallesh'))               # Empty string \n",
    "print(search_patteren_string(\"h$\", 'Mallesh'))\n",
    "print(search_patteren_string(\"M$\", 'Mallesh'))"
   ]
  },
  {
   "cell_type": "code",
   "execution_count": 6,
   "metadata": {},
   "outputs": [
    {
     "name": "stdout",
     "output_type": "stream",
     "text": [
      "Found Pattern: Ne\n",
      "Found Pattern: N\n",
      "Found Pattern: \n"
     ]
    }
   ],
   "source": [
    "# matches 0 or more characters\n",
    "print(search_patteren_string(\"Ne*\", 'New York'))\n",
    "print(search_patteren_string(\"N*\", 'New York'))\n",
    "print(search_patteren_string(\"Y*\", 'New York'))"
   ]
  },
  {
   "cell_type": "code",
   "execution_count": 7,
   "metadata": {},
   "outputs": [
    {
     "name": "stdout",
     "output_type": "stream",
     "text": [
      "No Match\n",
      "Found Pattern: r\n",
      "Found Pattern: Ne\n"
     ]
    }
   ],
   "source": [
    "# matches 1 or more characters\n",
    "print(search_patteren_string(\"2+\", 'New York'))\n",
    "print(search_patteren_string(\"r+\", 'New York'))\n",
    "print(search_patteren_string(\"Ne+\", 'New York'))"
   ]
  },
  {
   "cell_type": "code",
   "execution_count": 8,
   "metadata": {},
   "outputs": [
    {
     "name": "stdout",
     "output_type": "stream",
     "text": [
      "Found Pattern: Sa\n",
      "Found Pattern: New\n",
      "Found Pattern: Ne\n"
     ]
    }
   ],
   "source": [
    "# optional characters\n",
    "print(search_patteren_string(\"S3?a\", 'Sachin'))\n",
    "print(search_patteren_string(\"Ne?w\", 'New York'))\n",
    "print(search_patteren_string(\"N?e\", 'New York'))"
   ]
  },
  {
   "cell_type": "code",
   "execution_count": 9,
   "metadata": {},
   "outputs": [
    {
     "name": "stdout",
     "output_type": "stream",
     "text": [
      "Found Pattern: 22\n",
      "Found Pattern: 333\n"
     ]
    }
   ],
   "source": [
    "# {m,n} Specify number of times charcter matched between m and n times\n",
    "print(search_patteren_string(\"2{1,3}\", \"221B Baker Street\"))\n",
    "print(search_patteren_string(\"3{2,6}\", \"333B Baker Street\"))"
   ]
  },
  {
   "cell_type": "code",
   "execution_count": 10,
   "metadata": {},
   "outputs": [
    {
     "name": "stdout",
     "output_type": "stream",
     "text": [
      "Found Pattern: i\n",
      "Found Pattern: m\n",
      "Found Pattern: e\n"
     ]
    }
   ],
   "source": [
    "# [] list characters to be matched\n",
    "print(search_patteren_string(\"[i]\",\"Mumbai\"))\n",
    "print(search_patteren_string(\"[m]\",\"Rome\"))\n",
    "print(search_patteren_string(\"[ew]\",\"New\"))"
   ]
  },
  {
   "cell_type": "code",
   "execution_count": 11,
   "metadata": {},
   "outputs": [
    {
     "name": "stdout",
     "output_type": "stream",
     "text": [
      "Found Pattern: ?\n",
      "Found Pattern: !!\n"
     ]
    }
   ],
   "source": [
    "# \\ escape character\n",
    "print(search_patteren_string(\"\\?\", \"How are you?\"))\n",
    "print(search_patteren_string(\"\\!!\", \"you doing gr8!!\"))"
   ]
  },
  {
   "cell_type": "code",
   "execution_count": 12,
   "metadata": {},
   "outputs": [],
   "source": [
    "# \\s - matches any White spaces\n",
    "# \\w - matches any Alpha Character. Equivalent to [A-Za-z]\n",
    "# \\d - macthes any Numeric character. Equivalent to [0-9]\n",
    "\n",
    "# We may Negate these by Captalizing \n",
    "#\\D matches anything NOT a digit"
   ]
  },
  {
   "cell_type": "markdown",
   "metadata": {},
   "source": [
    "##### Splitting by RegeX"
   ]
  },
  {
   "cell_type": "code",
   "execution_count": 13,
   "metadata": {},
   "outputs": [
    {
     "name": "stdout",
     "output_type": "stream",
     "text": [
      "['Hi There', ' whatsup', ' How are you: where are you?']\n"
     ]
    }
   ],
   "source": [
    "string = 'Hi There; whatsup; How are you: where are you?'\n",
    "delimiter = \";\"\n",
    "\n",
    "split_string = re.split(delimiter,string)\n",
    "print(split_string)"
   ]
  },
  {
   "cell_type": "markdown",
   "metadata": {},
   "source": [
    "##### Search and Replace"
   ]
  },
  {
   "cell_type": "code",
   "execution_count": 14,
   "metadata": {},
   "outputs": [
    {
     "name": "stdout",
     "output_type": "stream",
     "text": [
      "Welcome to NYC\n",
      "Welcome to BOSTON\n"
     ]
    }
   ],
   "source": [
    "string = 'Welcome to NYC'\n",
    "print(string)\n",
    "\n",
    "string = re.sub('NYC' , 'BOSTON', string)\n",
    "print(string)"
   ]
  },
  {
   "cell_type": "markdown",
   "metadata": {},
   "source": [
    "##### Find all"
   ]
  },
  {
   "cell_type": "code",
   "execution_count": 15,
   "metadata": {},
   "outputs": [
    {
     "name": "stdout",
     "output_type": "stream",
     "text": [
      "123 Wall st, 1040 Water st 10004\n",
      "['123', '1040', '10004']\n",
      "[' Wall st, ', ' Water st ']\n",
      "['123', 'Wall', 'st', '1040', 'Water', 'st', '10004']\n",
      "[' ', ' ', ', ', ' ', ' ', ' ']\n",
      "['st', 'st']\n"
     ]
    }
   ],
   "source": [
    "string = '123 Wall st, 1040 Water st 10004'\n",
    "print(string)\n",
    "\n",
    "pattern = re.compile(\"\\d+\")\n",
    "print(pattern.findall(string))\n",
    "\n",
    "pattern = re.compile(\"\\D+\")\n",
    "print(pattern.findall(string))\n",
    "\n",
    "pattern = re.compile(\"\\w+\")\n",
    "print(pattern.findall(string))\n",
    "\n",
    "pattern = re.compile(\"\\W+\")\n",
    "print(pattern.findall(string))\n",
    "\n",
    "pattern = re.compile(\"st\")\n",
    "print(pattern.findall(string))\n"
   ]
  },
  {
   "cell_type": "code",
   "execution_count": null,
   "metadata": {},
   "outputs": [],
   "source": []
  }
 ],
 "metadata": {
  "kernelspec": {
   "display_name": "Python 3",
   "language": "python",
   "name": "python3"
  },
  "language_info": {
   "codemirror_mode": {
    "name": "ipython",
    "version": 3
   },
   "file_extension": ".py",
   "mimetype": "text/x-python",
   "name": "python",
   "nbconvert_exporter": "python",
   "pygments_lexer": "ipython3",
   "version": "3.7.1"
  }
 },
 "nbformat": 4,
 "nbformat_minor": 2
}
