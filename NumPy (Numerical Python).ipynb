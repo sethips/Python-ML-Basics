{
 "cells": [
  {
   "cell_type": "markdown",
   "metadata": {},
   "source": [
    "### Numpy Tutorials , Basic Operations"
   ]
  },
  {
   "cell_type": "code",
   "execution_count": 63,
   "metadata": {},
   "outputs": [],
   "source": [
    "#import Numpy library\n",
    "import numpy as np"
   ]
  },
  {
   "cell_type": "code",
   "execution_count": 64,
   "metadata": {},
   "outputs": [
    {
     "name": "stdout",
     "output_type": "stream",
     "text": [
      "[ 1  2  3  4  5  6  7  8  9 10 11 12 13 14 15]\n"
     ]
    }
   ],
   "source": [
    "# numpy array 1\n",
    "A = np.array([1,2,3,4,5,6,7,8,9,10,11,12,13,14,15])\n",
    "print(A)"
   ]
  },
  {
   "cell_type": "code",
   "execution_count": 65,
   "metadata": {},
   "outputs": [
    {
     "name": "stdout",
     "output_type": "stream",
     "text": [
      "[[ 1  2  3  4  5]\n",
      " [ 6  7  8  9 10]\n",
      " [11 12 13 14 15]]\n",
      "-----------------------------------\n",
      "Shape of Array A: \n",
      " (3, 5)\n",
      "-----------------------------------\n",
      "DataType of Elements A: \n",
      " int32\n",
      "-----------------------------------\n",
      "DataType of Array A: \n",
      " <class 'numpy.ndarray'>\n",
      "-----------------------------------\n",
      "Shape of Array A: \n",
      " 15\n",
      "-----------------------------------\n"
     ]
    }
   ],
   "source": [
    "A = A.reshape(3,5)\n",
    "print(A)\n",
    "print('-----------------------------------')\n",
    "print('Shape of Array A: \\n', A.shape)\n",
    "print('-----------------------------------')\n",
    "print('DataType of Elements A: \\n', A.dtype.name)\n",
    "print('-----------------------------------')\n",
    "print('DataType of Array A: \\n', type(A))\n",
    "print('-----------------------------------')\n",
    "print('Shape of Array A: \\n', A.size)\n",
    "print('-----------------------------------')"
   ]
  },
  {
   "cell_type": "code",
   "execution_count": 66,
   "metadata": {},
   "outputs": [
    {
     "data": {
      "text/plain": [
       "array([ 1,  3,  5,  7,  9, 11, 13, 15, 17, 19])"
      ]
     },
     "execution_count": 66,
     "metadata": {},
     "output_type": "execute_result"
    }
   ],
   "source": [
    "# arange([start],stop,[step]) \n",
    "np.arange(1,20,2)"
   ]
  },
  {
   "cell_type": "code",
   "execution_count": 67,
   "metadata": {},
   "outputs": [
    {
     "data": {
      "text/plain": [
       "array([[0., 0., 0.],\n",
       "       [0., 0., 0.]])"
      ]
     },
     "execution_count": 67,
     "metadata": {},
     "output_type": "execute_result"
    }
   ],
   "source": [
    "# np.zeros((n,m)) returns an n x m matrix that contains zeros\n",
    "np.zeros((2,3))"
   ]
  },
  {
   "cell_type": "code",
   "execution_count": 68,
   "metadata": {},
   "outputs": [
    {
     "data": {
      "text/plain": [
       "array([[1., 0., 0., 0.],\n",
       "       [0., 1., 0., 0.],\n",
       "       [0., 0., 1., 0.],\n",
       "       [0., 0., 0., 1.]])"
      ]
     },
     "execution_count": 68,
     "metadata": {},
     "output_type": "execute_result"
    }
   ],
   "source": [
    "# np.eye() returns an identity matrix with the specified dimensions\n",
    "np.eye(4)"
   ]
  },
  {
   "cell_type": "code",
   "execution_count": 69,
   "metadata": {},
   "outputs": [
    {
     "data": {
      "text/plain": [
       "array([[[1., 1., 1., 1.],\n",
       "        [1., 1., 1., 1.],\n",
       "        [1., 1., 1., 1.]],\n",
       "\n",
       "       [[1., 1., 1., 1.],\n",
       "        [1., 1., 1., 1.],\n",
       "        [1., 1., 1., 1.]]])"
      ]
     },
     "execution_count": 69,
     "metadata": {},
     "output_type": "execute_result"
    }
   ],
   "source": [
    "# np.ones(x,y,z) returns an matrix with ones\n",
    "np.ones((2,3,4))"
   ]
  },
  {
   "cell_type": "code",
   "execution_count": 70,
   "metadata": {},
   "outputs": [
    {
     "name": "stdout",
     "output_type": "stream",
     "text": [
      "sum of whole Array A: \n",
      " 120\n",
      "-----------------------------------\n",
      "sum of rows of Array A: \n",
      " [15 40 65]\n",
      "-----------------------------------\n",
      "sum of columns of Array A: \n",
      " [18 21 24 27 30]\n",
      "-----------------------------------\n"
     ]
    }
   ],
   "source": [
    "## ADD the elements of matrix.\n",
    "print('sum of whole Array A: \\n', np.sum(A))\n",
    "print('-----------------------------------')\n",
    "print('sum of rows of Array A: \\n', np.sum(A, axis=1))\n",
    "print('-----------------------------------')\n",
    "print('sum of columns of Array A: \\n', np.sum(A, axis=0))\n",
    "print('-----------------------------------')"
   ]
  },
  {
   "cell_type": "code",
   "execution_count": 71,
   "metadata": {},
   "outputs": [
    {
     "data": {
      "text/plain": [
       "array([[0.41559814, 0.22385092, 0.98884626, 0.16014671],\n",
       "       [0.25245349, 0.99595971, 0.55410624, 0.9376037 ]])"
      ]
     },
     "execution_count": 71,
     "metadata": {},
     "output_type": "execute_result"
    }
   ],
   "source": [
    "# random value generation using numpy.\n",
    "np.random.rand(2,4)"
   ]
  },
  {
   "cell_type": "code",
   "execution_count": 72,
   "metadata": {},
   "outputs": [
    {
     "name": "stdout",
     "output_type": "stream",
     "text": [
      "-----------------------------------\n",
      "[ 1  3  5  7  9 11 13]\n",
      "-----------------------------------\n",
      "[ 1  3  5  7  9 11 13  2]\n",
      "-----------------------------------\n",
      "[ 2  6 10 14 18 22 26  4]\n"
     ]
    }
   ],
   "source": [
    "# np.append() adds elements into the specified array.\n",
    "print('-----------------------------------')\n",
    "B = np.arange(1,15,2)\n",
    "print(B)\n",
    "print('-----------------------------------')\n",
    "B = np.append(B,2)\n",
    "print(B)\n",
    "print('-----------------------------------')\n",
    "B = B*2\n",
    "print(B)\n"
   ]
  },
  {
   "cell_type": "code",
   "execution_count": 73,
   "metadata": {},
   "outputs": [
    {
     "data": {
      "text/plain": [
       "array([10, 14, 18, 22])"
      ]
     },
     "execution_count": 73,
     "metadata": {},
     "output_type": "execute_result"
    }
   ],
   "source": [
    "# Slicing : Array[lowerbound(inclusive): upperbound(exclusive)]\n",
    "B[2:6]"
   ]
  }
 ],
 "metadata": {
  "kernelspec": {
   "display_name": "Python 3",
   "language": "python",
   "name": "python3"
  },
  "language_info": {
   "codemirror_mode": {
    "name": "ipython",
    "version": 3
   },
   "file_extension": ".py",
   "mimetype": "text/x-python",
   "name": "python",
   "nbconvert_exporter": "python",
   "pygments_lexer": "ipython3",
   "version": "3.6.7"
  }
 },
 "nbformat": 4,
 "nbformat_minor": 2
}
